{
 "cells": [
  {
   "cell_type": "code",
   "execution_count": 5,
   "metadata": {},
   "outputs": [
    {
     "name": "stderr",
     "output_type": "stream",
     "text": [
      "Installing package into 'C:/Users/numuhire/Documents/R/win-library/3.6'\n",
      "(as 'lib' is unspecified)\n",
      "Warning message:\n",
      "\"package 'dplyr' is in use and will not be installed\""
     ]
    }
   ],
   "source": [
    "install.packages(\"dplyr\")"
   ]
  },
  {
   "cell_type": "code",
   "execution_count": 9,
   "metadata": {},
   "outputs": [],
   "source": [
    "library(dplyr)"
   ]
  },
  {
   "cell_type": "code",
   "execution_count": 7,
   "metadata": {},
   "outputs": [
    {
     "name": "stderr",
     "output_type": "stream",
     "text": [
      "Warning message in file(file, \"rt\"):\n",
      "\"impossible d'ouvrir le fichier 'names.csv' : No such file or directory\""
     ]
    },
    {
     "ename": "ERROR",
     "evalue": "Error in file(file, \"rt\"): impossible d'ouvrir la connexion\n",
     "output_type": "error",
     "traceback": [
      "Error in file(file, \"rt\"): impossible d'ouvrir la connexion\nTraceback:\n",
      "1. read.csv(\"names.csv\", header = TRUE, quote = \"\\\"\", sep = \",\", \n .     encoding = \"UTF-8\")",
      "2. read.table(file = file, header = header, sep = sep, quote = quote, \n .     dec = dec, fill = fill, comment.char = comment.char, ...)",
      "3. file(file, \"rt\")"
     ]
    }
   ],
   "source": [
    "name<- read.csv(\"names.csv\", header = TRUE, quote = \"\\\"\",sep =\",\", encoding =\"UTF-8\")\n"
   ]
  },
  {
   "cell_type": "code",
   "execution_count": 8,
   "metadata": {
    "scrolled": true
   },
   "outputs": [
    {
     "ename": "ERROR",
     "evalue": "Error in eval(expr, envir, enclos): objet 'name' introuvable\n",
     "output_type": "error",
     "traceback": [
      "Error in eval(expr, envir, enclos): objet 'name' introuvable\nTraceback:\n"
     ]
    }
   ],
   "source": [
    "name"
   ]
  },
  {
   "cell_type": "code",
   "execution_count": 1,
   "metadata": {},
   "outputs": [
    {
     "ename": "ERROR",
     "evalue": "Error in name %>% filter(prénom == \"Kamel\") %>% filter(genre == \"M\") %>% : impossible de trouver la fonction \"%>%\"\n",
     "output_type": "error",
     "traceback": [
      "Error in name %>% filter(prénom == \"Kamel\") %>% filter(genre == \"M\") %>% : impossible de trouver la fonction \"%>%\"\nTraceback:\n"
     ]
    }
   ],
   "source": [
    "##Gloriose_prenom <- filter( name,prénom == \"Gloria\"| prénom == \"Gloria\")\n",
    "##Gloriose_prenom\n",
    "kamel_M <- name %>% filter(prénom == \"Kamel\") %>% filter(genre == \"M\") %>% select(prénom, année, naissances) \n",
    "head(kamel_M, 5)"
   ]
  },
  {
   "cell_type": "code",
   "execution_count": 16,
   "metadata": {},
   "outputs": [
    {
     "ename": "ERROR",
     "evalue": "Error in parse(text = x, srcfile = src): <text>:2:1: SPECIAL inattendu(e)\n1: common_names <- name %>% group_by(prénom,naissances) %>% arrange( naissances)%>% filter(genre ==\"F\")\n2: %>%\n   ^\n",
     "output_type": "error",
     "traceback": [
      "Error in parse(text = x, srcfile = src): <text>:2:1: SPECIAL inattendu(e)\n1: common_names <- name %>% group_by(prénom,naissances) %>% arrange( naissances)%>% filter(genre ==\"F\")\n2: %>%\n   ^\nTraceback:\n"
     ]
    }
   ],
   "source": [
    "\n",
    "##data <- dataset %>% filter(année == \"2015\")\n",
    "##%>% group_by(prénom, genre)  %>% arrange(prénom, genre) %>% distinct(prénom, genre, .keep_all = TRUE)  "
   ]
  },
  {
   "cell_type": "code",
   "execution_count": 14,
   "metadata": {},
   "outputs": [
    {
     "data": {
      "text/plain": [
       "                     \n",
       "1 .Primitive(\"names\")"
      ]
     },
     "metadata": {},
     "output_type": "display_data"
    }
   ],
   "source": []
  },
  {
   "cell_type": "code",
   "execution_count": 58,
   "metadata": {},
   "outputs": [
    {
     "data": {
      "text/html": [
       "<dl class=dl-horizontal>\n",
       "\t<dt>F</dt>\n",
       "\t\t<dd>1119824</dd>\n",
       "\t<dt>M</dt>\n",
       "\t\t<dd>772070</dd>\n",
       "</dl>\n"
      ],
      "text/latex": [
       "\\begin{description*}\n",
       "\\item[F] 1119824\n",
       "\\item[M] 772070\n",
       "\\end{description*}\n"
      ],
      "text/markdown": [
       "F\n",
       ":   1119824M\n",
       ":   772070\n",
       "\n"
      ],
      "text/plain": [
       "      F       M \n",
       "1119824  772070 "
      ]
     },
     "metadata": {},
     "output_type": "display_data"
    }
   ],
   "source": [
    "\n",
    "summary(name$genre)"
   ]
  },
  {
   "cell_type": "code",
   "execution_count": 5,
   "metadata": {},
   "outputs": [
    {
     "data": {
      "text/html": [
       "<ol class=list-inline>\n",
       "\t<li>1891894</li>\n",
       "\t<li>5</li>\n",
       "</ol>\n"
      ],
      "text/latex": [
       "\\begin{enumerate*}\n",
       "\\item 1891894\n",
       "\\item 5\n",
       "\\end{enumerate*}\n"
      ],
      "text/markdown": [
       "1. 1891894\n",
       "2. 5\n",
       "\n",
       "\n"
      ],
      "text/plain": [
       "[1] 1891894       5"
      ]
     },
     "metadata": {},
     "output_type": "display_data"
    }
   ],
   "source": [
    "dim(name) # dimansion"
   ]
  },
  {
   "cell_type": "code",
   "execution_count": 6,
   "metadata": {},
   "outputs": [
    {
     "name": "stdout",
     "output_type": "stream",
     "text": [
      "'data.frame':\t1891894 obs. of  5 variables:\n",
      " $ X         : int  0 1 2 3 4 5 6 7 8 9 ...\n",
      " $ année     : int  1880 1880 1880 1880 1880 1880 1880 1880 1880 1880 ...\n",
      " $ prénom    : Factor w/ 96174 levels \"Aaban\",\"Aabha\",..: 60302 6087 27724 26953 63059 59121 35075 3438 11108 76883 ...\n",
      " $ genre     : Factor w/ 2 levels \"F\",\"M\": 1 1 1 1 1 1 1 1 1 1 ...\n",
      " $ naissances: int  7065 2604 2003 1939 1746 1578 1472 1414 1320 1288 ...\n"
     ]
    }
   ],
   "source": [
    "str(name) # type de variables"
   ]
  },
  {
   "cell_type": "code",
   "execution_count": 26,
   "metadata": {
    "scrolled": true
   },
   "outputs": [
    {
     "ename": "ERROR",
     "evalue": "Error in as.ts(x): objet 'name' introuvable\n",
     "output_type": "error",
     "traceback": [
      "Error in as.ts(x): objet 'name' introuvable\nTraceback:\n",
      "1. filter(name, prénom == \"Charlotte\")",
      "2. as.ts(x)"
     ]
    }
   ],
   "source": [
    "Charlotte_nom <- filter(name,prénom == \"Charlotte\")\n",
    "Charlotte_nom"
   ]
  },
  {
   "cell_type": "code",
   "execution_count": 59,
   "metadata": {},
   "outputs": [
    {
     "data": {
      "text/html": [
       "<table>\n",
       "<thead><tr><th scope=col>X</th><th scope=col>année</th><th scope=col>prénom</th><th scope=col>genre</th><th scope=col>naissances</th></tr></thead>\n",
       "<tbody>\n",
       "\t<tr><td> 696785  </td><td>1970     </td><td>Charlotte</td><td>F        </td><td>1991     </td></tr>\n",
       "\t<tr><td> 710283  </td><td>1970     </td><td>Charlotte</td><td>M        </td><td>   6     </td></tr>\n",
       "\t<tr><td> 711581  </td><td>1971     </td><td>Charlotte</td><td>F        </td><td>1744     </td></tr>\n",
       "\t<tr><td> 726885  </td><td>1972     </td><td>Charlotte</td><td>F        </td><td>1536     </td></tr>\n",
       "\t<tr><td> 742305  </td><td>1973     </td><td>Charlotte</td><td>F        </td><td>1330     </td></tr>\n",
       "\t<tr><td> 757991  </td><td>1974     </td><td>Charlotte</td><td>F        </td><td>1252     </td></tr>\n",
       "\t<tr><td> 771388  </td><td>1974     </td><td>Charlotte</td><td>M        </td><td>  10     </td></tr>\n",
       "\t<tr><td> 774256  </td><td>1975     </td><td>Charlotte</td><td>F        </td><td>1081     </td></tr>\n",
       "\t<tr><td> 790239  </td><td>1975     </td><td>Charlotte</td><td>M        </td><td>   5     </td></tr>\n",
       "\t<tr><td> 791218  </td><td>1976     </td><td>Charlotte</td><td>F        </td><td> 956     </td></tr>\n",
       "\t<tr><td> 808632  </td><td>1977     </td><td>Charlotte</td><td>F        </td><td> 939     </td></tr>\n",
       "\t<tr><td> 826817  </td><td>1978     </td><td>Charlotte</td><td>F        </td><td> 829     </td></tr>\n",
       "\t<tr><td> 845053  </td><td>1979     </td><td>Charlotte</td><td>F        </td><td> 856     </td></tr>\n",
       "\t<tr><td> 864099  </td><td>1980     </td><td>Charlotte</td><td>F        </td><td> 850     </td></tr>\n",
       "\t<tr><td> 882361  </td><td>1980     </td><td>Charlotte</td><td>M        </td><td>   5     </td></tr>\n",
       "\t<tr><td> 883538  </td><td>1981     </td><td>Charlotte</td><td>F        </td><td> 834     </td></tr>\n",
       "\t<tr><td> 903027  </td><td>1982     </td><td>Charlotte</td><td>F        </td><td> 793     </td></tr>\n",
       "\t<tr><td> 922687  </td><td>1983     </td><td>Charlotte</td><td>F        </td><td> 833     </td></tr>\n",
       "\t<tr><td> 942111  </td><td>1984     </td><td>Charlotte</td><td>F        </td><td> 787     </td></tr>\n",
       "\t<tr><td> 959655  </td><td>1984     </td><td>Charlotte</td><td>M        </td><td>   6     </td></tr>\n",
       "\t<tr><td> 961573  </td><td>1985     </td><td>Charlotte</td><td>F        </td><td> 943     </td></tr>\n",
       "\t<tr><td> 980494  </td><td>1985     </td><td>Charlotte</td><td>M        </td><td>   5     </td></tr>\n",
       "\t<tr><td> 981674  </td><td>1986     </td><td>Charlotte</td><td>F        </td><td> 860     </td></tr>\n",
       "\t<tr><td>1002326  </td><td>1987     </td><td>Charlotte</td><td>F        </td><td> 824     </td></tr>\n",
       "\t<tr><td>1023723  </td><td>1988     </td><td>Charlotte</td><td>F        </td><td> 856     </td></tr>\n",
       "\t<tr><td>1046088  </td><td>1989     </td><td>Charlotte</td><td>F        </td><td> 893     </td></tr>\n",
       "\t<tr><td>1065571  </td><td>1989     </td><td>Charlotte</td><td>M        </td><td>   9     </td></tr>\n",
       "\t<tr><td>1069855  </td><td>1990     </td><td>Charlotte</td><td>F        </td><td> 961     </td></tr>\n",
       "</tbody>\n",
       "</table>\n"
      ],
      "text/latex": [
       "\\begin{tabular}{r|lllll}\n",
       " X & année & prénom & genre & naissances\\\\\n",
       "\\hline\n",
       "\t  696785   & 1970      & Charlotte & F         & 1991     \\\\\n",
       "\t  710283   & 1970      & Charlotte & M         &    6     \\\\\n",
       "\t  711581   & 1971      & Charlotte & F         & 1744     \\\\\n",
       "\t  726885   & 1972      & Charlotte & F         & 1536     \\\\\n",
       "\t  742305   & 1973      & Charlotte & F         & 1330     \\\\\n",
       "\t  757991   & 1974      & Charlotte & F         & 1252     \\\\\n",
       "\t  771388   & 1974      & Charlotte & M         &   10     \\\\\n",
       "\t  774256   & 1975      & Charlotte & F         & 1081     \\\\\n",
       "\t  790239   & 1975      & Charlotte & M         &    5     \\\\\n",
       "\t  791218   & 1976      & Charlotte & F         &  956     \\\\\n",
       "\t  808632   & 1977      & Charlotte & F         &  939     \\\\\n",
       "\t  826817   & 1978      & Charlotte & F         &  829     \\\\\n",
       "\t  845053   & 1979      & Charlotte & F         &  856     \\\\\n",
       "\t  864099   & 1980      & Charlotte & F         &  850     \\\\\n",
       "\t  882361   & 1980      & Charlotte & M         &    5     \\\\\n",
       "\t  883538   & 1981      & Charlotte & F         &  834     \\\\\n",
       "\t  903027   & 1982      & Charlotte & F         &  793     \\\\\n",
       "\t  922687   & 1983      & Charlotte & F         &  833     \\\\\n",
       "\t  942111   & 1984      & Charlotte & F         &  787     \\\\\n",
       "\t  959655   & 1984      & Charlotte & M         &    6     \\\\\n",
       "\t  961573   & 1985      & Charlotte & F         &  943     \\\\\n",
       "\t  980494   & 1985      & Charlotte & M         &    5     \\\\\n",
       "\t  981674   & 1986      & Charlotte & F         &  860     \\\\\n",
       "\t 1002326   & 1987      & Charlotte & F         &  824     \\\\\n",
       "\t 1023723   & 1988      & Charlotte & F         &  856     \\\\\n",
       "\t 1046088   & 1989      & Charlotte & F         &  893     \\\\\n",
       "\t 1065571   & 1989      & Charlotte & M         &    9     \\\\\n",
       "\t 1069855   & 1990      & Charlotte & F         &  961     \\\\\n",
       "\\end{tabular}\n"
      ],
      "text/markdown": [
       "\n",
       "| X | année | prénom | genre | naissances |\n",
       "|---|---|---|---|---|\n",
       "|  696785   | 1970      | Charlotte | F         | 1991      |\n",
       "|  710283   | 1970      | Charlotte | M         |    6      |\n",
       "|  711581   | 1971      | Charlotte | F         | 1744      |\n",
       "|  726885   | 1972      | Charlotte | F         | 1536      |\n",
       "|  742305   | 1973      | Charlotte | F         | 1330      |\n",
       "|  757991   | 1974      | Charlotte | F         | 1252      |\n",
       "|  771388   | 1974      | Charlotte | M         |   10      |\n",
       "|  774256   | 1975      | Charlotte | F         | 1081      |\n",
       "|  790239   | 1975      | Charlotte | M         |    5      |\n",
       "|  791218   | 1976      | Charlotte | F         |  956      |\n",
       "|  808632   | 1977      | Charlotte | F         |  939      |\n",
       "|  826817   | 1978      | Charlotte | F         |  829      |\n",
       "|  845053   | 1979      | Charlotte | F         |  856      |\n",
       "|  864099   | 1980      | Charlotte | F         |  850      |\n",
       "|  882361   | 1980      | Charlotte | M         |    5      |\n",
       "|  883538   | 1981      | Charlotte | F         |  834      |\n",
       "|  903027   | 1982      | Charlotte | F         |  793      |\n",
       "|  922687   | 1983      | Charlotte | F         |  833      |\n",
       "|  942111   | 1984      | Charlotte | F         |  787      |\n",
       "|  959655   | 1984      | Charlotte | M         |    6      |\n",
       "|  961573   | 1985      | Charlotte | F         |  943      |\n",
       "|  980494   | 1985      | Charlotte | M         |    5      |\n",
       "|  981674   | 1986      | Charlotte | F         |  860      |\n",
       "| 1002326   | 1987      | Charlotte | F         |  824      |\n",
       "| 1023723   | 1988      | Charlotte | F         |  856      |\n",
       "| 1046088   | 1989      | Charlotte | F         |  893      |\n",
       "| 1065571   | 1989      | Charlotte | M         |    9      |\n",
       "| 1069855   | 1990      | Charlotte | F         |  961      |\n",
       "\n"
      ],
      "text/plain": [
       "   X       année prénom    genre naissances\n",
       "1   696785 1970  Charlotte F     1991      \n",
       "2   710283 1970  Charlotte M        6      \n",
       "3   711581 1971  Charlotte F     1744      \n",
       "4   726885 1972  Charlotte F     1536      \n",
       "5   742305 1973  Charlotte F     1330      \n",
       "6   757991 1974  Charlotte F     1252      \n",
       "7   771388 1974  Charlotte M       10      \n",
       "8   774256 1975  Charlotte F     1081      \n",
       "9   790239 1975  Charlotte M        5      \n",
       "10  791218 1976  Charlotte F      956      \n",
       "11  808632 1977  Charlotte F      939      \n",
       "12  826817 1978  Charlotte F      829      \n",
       "13  845053 1979  Charlotte F      856      \n",
       "14  864099 1980  Charlotte F      850      \n",
       "15  882361 1980  Charlotte M        5      \n",
       "16  883538 1981  Charlotte F      834      \n",
       "17  903027 1982  Charlotte F      793      \n",
       "18  922687 1983  Charlotte F      833      \n",
       "19  942111 1984  Charlotte F      787      \n",
       "20  959655 1984  Charlotte M        6      \n",
       "21  961573 1985  Charlotte F      943      \n",
       "22  980494 1985  Charlotte M        5      \n",
       "23  981674 1986  Charlotte F      860      \n",
       "24 1002326 1987  Charlotte F      824      \n",
       "25 1023723 1988  Charlotte F      856      \n",
       "26 1046088 1989  Charlotte F      893      \n",
       "27 1065571 1989  Charlotte M        9      \n",
       "28 1069855 1990  Charlotte F      961      "
      ]
     },
     "metadata": {},
     "output_type": "display_data"
    }
   ],
   "source": [
    "Charlotte_give_year <- filter(Charlotte_nom, année >= 1970 & année <= 1990)\n",
    "Charlotte_give_year"
   ]
  },
  {
   "cell_type": "code",
   "execution_count": null,
   "metadata": {},
   "outputs": [],
   "source": []
  },
  {
   "cell_type": "code",
   "execution_count": 60,
   "metadata": {},
   "outputs": [
    {
     "data": {
      "text/html": [
       "<table>\n",
       "<thead><tr><th scope=col>X</th><th scope=col>année</th><th scope=col>prénom</th><th scope=col>genre</th><th scope=col>naissances</th></tr></thead>\n",
       "<tbody>\n",
       "\t<tr><td> 710283  </td><td>1970     </td><td>Charlotte</td><td>M        </td><td> 6       </td></tr>\n",
       "\t<tr><td> 771388  </td><td>1974     </td><td>Charlotte</td><td>M        </td><td>10       </td></tr>\n",
       "\t<tr><td> 790239  </td><td>1975     </td><td>Charlotte</td><td>M        </td><td> 5       </td></tr>\n",
       "\t<tr><td> 882361  </td><td>1980     </td><td>Charlotte</td><td>M        </td><td> 5       </td></tr>\n",
       "\t<tr><td> 959655  </td><td>1984     </td><td>Charlotte</td><td>M        </td><td> 6       </td></tr>\n",
       "\t<tr><td> 980494  </td><td>1985     </td><td>Charlotte</td><td>M        </td><td> 5       </td></tr>\n",
       "\t<tr><td>1065571  </td><td>1989     </td><td>Charlotte</td><td>M        </td><td> 9       </td></tr>\n",
       "</tbody>\n",
       "</table>\n"
      ],
      "text/latex": [
       "\\begin{tabular}{r|lllll}\n",
       " X & année & prénom & genre & naissances\\\\\n",
       "\\hline\n",
       "\t  710283   & 1970      & Charlotte & M         &  6       \\\\\n",
       "\t  771388   & 1974      & Charlotte & M         & 10       \\\\\n",
       "\t  790239   & 1975      & Charlotte & M         &  5       \\\\\n",
       "\t  882361   & 1980      & Charlotte & M         &  5       \\\\\n",
       "\t  959655   & 1984      & Charlotte & M         &  6       \\\\\n",
       "\t  980494   & 1985      & Charlotte & M         &  5       \\\\\n",
       "\t 1065571   & 1989      & Charlotte & M         &  9       \\\\\n",
       "\\end{tabular}\n"
      ],
      "text/markdown": [
       "\n",
       "| X | année | prénom | genre | naissances |\n",
       "|---|---|---|---|---|\n",
       "|  710283   | 1970      | Charlotte | M         |  6        |\n",
       "|  771388   | 1974      | Charlotte | M         | 10        |\n",
       "|  790239   | 1975      | Charlotte | M         |  5        |\n",
       "|  882361   | 1980      | Charlotte | M         |  5        |\n",
       "|  959655   | 1984      | Charlotte | M         |  6        |\n",
       "|  980494   | 1985      | Charlotte | M         |  5        |\n",
       "| 1065571   | 1989      | Charlotte | M         |  9        |\n",
       "\n"
      ],
      "text/plain": [
       "  X       année prénom    genre naissances\n",
       "1  710283 1970  Charlotte M      6        \n",
       "2  771388 1974  Charlotte M     10        \n",
       "3  790239 1975  Charlotte M      5        \n",
       "4  882361 1980  Charlotte M      5        \n",
       "5  959655 1984  Charlotte M      6        \n",
       "6  980494 1985  Charlotte M      5        \n",
       "7 1065571 1989  Charlotte M      9        "
      ]
     },
     "metadata": {},
     "output_type": "display_data"
    }
   ],
   "source": [
    "filter(Charlotte_give_year, genre ==\"M\")"
   ]
  },
  {
   "cell_type": "code",
   "execution_count": 61,
   "metadata": {},
   "outputs": [
    {
     "name": "stdout",
     "output_type": "stream",
     "text": [
      "'data.frame':\t28 obs. of  5 variables:\n",
      " $ X         : int  696785 710283 711581 726885 742305 757991 771388 774256 790239 791218 ...\n",
      " $ année     : int  1970 1970 1971 1972 1973 1974 1974 1975 1975 1976 ...\n",
      " $ prénom    : Factor w/ 96174 levels \"Aaban\",\"Aabha\",..: 16095 16095 16095 16095 16095 16095 16095 16095 16095 16095 ...\n",
      " $ genre     : Factor w/ 2 levels \"F\",\"M\": 1 2 1 1 1 1 2 1 2 1 ...\n",
      " $ naissances: int  1991 6 1744 1536 1330 1252 10 1081 5 956 ...\n"
     ]
    }
   ],
   "source": [
    "str(Charlotte_give_year)"
   ]
  },
  {
   "cell_type": "code",
   "execution_count": 64,
   "metadata": {},
   "outputs": [
    {
     "data": {
      "text/html": [
       "<ol class=list-inline>\n",
       "\t<li>1</li>\n",
       "\t<li>2</li>\n",
       "\t<li>1</li>\n",
       "\t<li>1</li>\n",
       "\t<li>1</li>\n",
       "\t<li>1</li>\n",
       "\t<li>2</li>\n",
       "\t<li>1</li>\n",
       "\t<li>2</li>\n",
       "\t<li>1</li>\n",
       "\t<li>1</li>\n",
       "\t<li>1</li>\n",
       "\t<li>1</li>\n",
       "\t<li>1</li>\n",
       "\t<li>2</li>\n",
       "\t<li>1</li>\n",
       "\t<li>1</li>\n",
       "\t<li>1</li>\n",
       "\t<li>1</li>\n",
       "\t<li>2</li>\n",
       "\t<li>1</li>\n",
       "\t<li>2</li>\n",
       "\t<li>1</li>\n",
       "\t<li>1</li>\n",
       "\t<li>1</li>\n",
       "\t<li>1</li>\n",
       "\t<li>2</li>\n",
       "\t<li>1</li>\n",
       "</ol>\n"
      ],
      "text/latex": [
       "\\begin{enumerate*}\n",
       "\\item 1\n",
       "\\item 2\n",
       "\\item 1\n",
       "\\item 1\n",
       "\\item 1\n",
       "\\item 1\n",
       "\\item 2\n",
       "\\item 1\n",
       "\\item 2\n",
       "\\item 1\n",
       "\\item 1\n",
       "\\item 1\n",
       "\\item 1\n",
       "\\item 1\n",
       "\\item 2\n",
       "\\item 1\n",
       "\\item 1\n",
       "\\item 1\n",
       "\\item 1\n",
       "\\item 2\n",
       "\\item 1\n",
       "\\item 2\n",
       "\\item 1\n",
       "\\item 1\n",
       "\\item 1\n",
       "\\item 1\n",
       "\\item 2\n",
       "\\item 1\n",
       "\\end{enumerate*}\n"
      ],
      "text/markdown": [
       "1. 1\n",
       "2. 2\n",
       "3. 1\n",
       "4. 1\n",
       "5. 1\n",
       "6. 1\n",
       "7. 2\n",
       "8. 1\n",
       "9. 2\n",
       "10. 1\n",
       "11. 1\n",
       "12. 1\n",
       "13. 1\n",
       "14. 1\n",
       "15. 2\n",
       "16. 1\n",
       "17. 1\n",
       "18. 1\n",
       "19. 1\n",
       "20. 2\n",
       "21. 1\n",
       "22. 2\n",
       "23. 1\n",
       "24. 1\n",
       "25. 1\n",
       "26. 1\n",
       "27. 2\n",
       "28. 1\n",
       "\n",
       "\n"
      ],
      "text/plain": [
       " [1] 1 2 1 1 1 1 2 1 2 1 1 1 1 1 2 1 1 1 1 2 1 2 1 1 1 1 2 1"
      ]
     },
     "metadata": {},
     "output_type": "display_data"
    }
   ],
   "source": [
    "(as.numeric(Charlotte_give_year$genre))### conversion en  numeric"
   ]
  },
  {
   "cell_type": "code",
   "execution_count": 66,
   "metadata": {},
   "outputs": [
    {
     "data": {
      "text/html": [
       "<table>\n",
       "<thead><tr><th scope=col>X</th><th scope=col>année</th><th scope=col>prénom</th><th scope=col>genre</th><th scope=col>naissances</th></tr></thead>\n",
       "<tbody>\n",
       "\t<tr><td> 696785  </td><td>1970     </td><td>Charlotte</td><td>F        </td><td>1991     </td></tr>\n",
       "\t<tr><td> 711581  </td><td>1971     </td><td>Charlotte</td><td>F        </td><td>1744     </td></tr>\n",
       "\t<tr><td> 726885  </td><td>1972     </td><td>Charlotte</td><td>F        </td><td>1536     </td></tr>\n",
       "\t<tr><td> 742305  </td><td>1973     </td><td>Charlotte</td><td>F        </td><td>1330     </td></tr>\n",
       "\t<tr><td> 757991  </td><td>1974     </td><td>Charlotte</td><td>F        </td><td>1252     </td></tr>\n",
       "\t<tr><td> 774256  </td><td>1975     </td><td>Charlotte</td><td>F        </td><td>1081     </td></tr>\n",
       "\t<tr><td> 791218  </td><td>1976     </td><td>Charlotte</td><td>F        </td><td> 956     </td></tr>\n",
       "\t<tr><td> 808632  </td><td>1977     </td><td>Charlotte</td><td>F        </td><td> 939     </td></tr>\n",
       "\t<tr><td> 826817  </td><td>1978     </td><td>Charlotte</td><td>F        </td><td> 829     </td></tr>\n",
       "\t<tr><td> 845053  </td><td>1979     </td><td>Charlotte</td><td>F        </td><td> 856     </td></tr>\n",
       "\t<tr><td> 864099  </td><td>1980     </td><td>Charlotte</td><td>F        </td><td> 850     </td></tr>\n",
       "\t<tr><td> 883538  </td><td>1981     </td><td>Charlotte</td><td>F        </td><td> 834     </td></tr>\n",
       "\t<tr><td> 903027  </td><td>1982     </td><td>Charlotte</td><td>F        </td><td> 793     </td></tr>\n",
       "\t<tr><td> 922687  </td><td>1983     </td><td>Charlotte</td><td>F        </td><td> 833     </td></tr>\n",
       "\t<tr><td> 942111  </td><td>1984     </td><td>Charlotte</td><td>F        </td><td> 787     </td></tr>\n",
       "\t<tr><td> 961573  </td><td>1985     </td><td>Charlotte</td><td>F        </td><td> 943     </td></tr>\n",
       "\t<tr><td> 981674  </td><td>1986     </td><td>Charlotte</td><td>F        </td><td> 860     </td></tr>\n",
       "\t<tr><td>1002326  </td><td>1987     </td><td>Charlotte</td><td>F        </td><td> 824     </td></tr>\n",
       "\t<tr><td>1023723  </td><td>1988     </td><td>Charlotte</td><td>F        </td><td> 856     </td></tr>\n",
       "\t<tr><td>1046088  </td><td>1989     </td><td>Charlotte</td><td>F        </td><td> 893     </td></tr>\n",
       "\t<tr><td>1069855  </td><td>1990     </td><td>Charlotte</td><td>F        </td><td> 961     </td></tr>\n",
       "</tbody>\n",
       "</table>\n"
      ],
      "text/latex": [
       "\\begin{tabular}{r|lllll}\n",
       " X & année & prénom & genre & naissances\\\\\n",
       "\\hline\n",
       "\t  696785   & 1970      & Charlotte & F         & 1991     \\\\\n",
       "\t  711581   & 1971      & Charlotte & F         & 1744     \\\\\n",
       "\t  726885   & 1972      & Charlotte & F         & 1536     \\\\\n",
       "\t  742305   & 1973      & Charlotte & F         & 1330     \\\\\n",
       "\t  757991   & 1974      & Charlotte & F         & 1252     \\\\\n",
       "\t  774256   & 1975      & Charlotte & F         & 1081     \\\\\n",
       "\t  791218   & 1976      & Charlotte & F         &  956     \\\\\n",
       "\t  808632   & 1977      & Charlotte & F         &  939     \\\\\n",
       "\t  826817   & 1978      & Charlotte & F         &  829     \\\\\n",
       "\t  845053   & 1979      & Charlotte & F         &  856     \\\\\n",
       "\t  864099   & 1980      & Charlotte & F         &  850     \\\\\n",
       "\t  883538   & 1981      & Charlotte & F         &  834     \\\\\n",
       "\t  903027   & 1982      & Charlotte & F         &  793     \\\\\n",
       "\t  922687   & 1983      & Charlotte & F         &  833     \\\\\n",
       "\t  942111   & 1984      & Charlotte & F         &  787     \\\\\n",
       "\t  961573   & 1985      & Charlotte & F         &  943     \\\\\n",
       "\t  981674   & 1986      & Charlotte & F         &  860     \\\\\n",
       "\t 1002326   & 1987      & Charlotte & F         &  824     \\\\\n",
       "\t 1023723   & 1988      & Charlotte & F         &  856     \\\\\n",
       "\t 1046088   & 1989      & Charlotte & F         &  893     \\\\\n",
       "\t 1069855   & 1990      & Charlotte & F         &  961     \\\\\n",
       "\\end{tabular}\n"
      ],
      "text/markdown": [
       "\n",
       "| X | année | prénom | genre | naissances |\n",
       "|---|---|---|---|---|\n",
       "|  696785   | 1970      | Charlotte | F         | 1991      |\n",
       "|  711581   | 1971      | Charlotte | F         | 1744      |\n",
       "|  726885   | 1972      | Charlotte | F         | 1536      |\n",
       "|  742305   | 1973      | Charlotte | F         | 1330      |\n",
       "|  757991   | 1974      | Charlotte | F         | 1252      |\n",
       "|  774256   | 1975      | Charlotte | F         | 1081      |\n",
       "|  791218   | 1976      | Charlotte | F         |  956      |\n",
       "|  808632   | 1977      | Charlotte | F         |  939      |\n",
       "|  826817   | 1978      | Charlotte | F         |  829      |\n",
       "|  845053   | 1979      | Charlotte | F         |  856      |\n",
       "|  864099   | 1980      | Charlotte | F         |  850      |\n",
       "|  883538   | 1981      | Charlotte | F         |  834      |\n",
       "|  903027   | 1982      | Charlotte | F         |  793      |\n",
       "|  922687   | 1983      | Charlotte | F         |  833      |\n",
       "|  942111   | 1984      | Charlotte | F         |  787      |\n",
       "|  961573   | 1985      | Charlotte | F         |  943      |\n",
       "|  981674   | 1986      | Charlotte | F         |  860      |\n",
       "| 1002326   | 1987      | Charlotte | F         |  824      |\n",
       "| 1023723   | 1988      | Charlotte | F         |  856      |\n",
       "| 1046088   | 1989      | Charlotte | F         |  893      |\n",
       "| 1069855   | 1990      | Charlotte | F         |  961      |\n",
       "\n"
      ],
      "text/plain": [
       "   X       année prénom    genre naissances\n",
       "1   696785 1970  Charlotte F     1991      \n",
       "2   711581 1971  Charlotte F     1744      \n",
       "3   726885 1972  Charlotte F     1536      \n",
       "4   742305 1973  Charlotte F     1330      \n",
       "5   757991 1974  Charlotte F     1252      \n",
       "6   774256 1975  Charlotte F     1081      \n",
       "7   791218 1976  Charlotte F      956      \n",
       "8   808632 1977  Charlotte F      939      \n",
       "9   826817 1978  Charlotte F      829      \n",
       "10  845053 1979  Charlotte F      856      \n",
       "11  864099 1980  Charlotte F      850      \n",
       "12  883538 1981  Charlotte F      834      \n",
       "13  903027 1982  Charlotte F      793      \n",
       "14  922687 1983  Charlotte F      833      \n",
       "15  942111 1984  Charlotte F      787      \n",
       "16  961573 1985  Charlotte F      943      \n",
       "17  981674 1986  Charlotte F      860      \n",
       "18 1002326 1987  Charlotte F      824      \n",
       "19 1023723 1988  Charlotte F      856      \n",
       "20 1046088 1989  Charlotte F      893      \n",
       "21 1069855 1990  Charlotte F      961      "
      ]
     },
     "metadata": {},
     "output_type": "display_data"
    }
   ],
   "source": [
    "Charlotte_femme <- filter(Charlotte_give_year,genre ==\"F\")\n",
    "Charlotte_femme"
   ]
  },
  {
   "cell_type": "code",
   "execution_count": null,
   "metadata": {},
   "outputs": [],
   "source": []
  },
  {
   "cell_type": "code",
   "execution_count": null,
   "metadata": {},
   "outputs": [],
   "source": []
  },
  {
   "cell_type": "code",
   "execution_count": 118,
   "metadata": {},
   "outputs": [
    {
     "name": "stderr",
     "output_type": "stream",
     "text": [
      "Warning message in data(Charlotte_give_year):\n",
      "\"data set 'Charlotte_give_year' not found\""
     ]
    },
    {
     "data": {
      "image/png": "[encoded data removed]",
      "text/plain": [
       "plot without title"
      ]
     },
     "metadata": {},
     "output_type": "display_data"
    }
   ],
   "source": [
    "data(Charlotte_give_year)\n",
    "plot(Charlotte_give_year$année, Charlotte_give_year$naissances, col=75)\n",
    "##plot(x = cars$speed, y = cars$dist, xlab = \"Speed\", ylab = \"Stopping Distance\")\n"
   ]
  },
  {
   "cell_type": "code",
   "execution_count": 98,
   "metadata": {},
   "outputs": [
    {
     "name": "stderr",
     "output_type": "stream",
     "text": [
      "Warning message in data(Charlotte_give_year):\n",
      "\"data set 'Charlotte_give_year' not found\""
     ]
    },
    {
     "data": {
      "image/png": "[encoded data removed]",
      "text/plain": [
       "Plot with title \"Histogram of Charlotte_give_year$année\""
      ]
     },
     "metadata": {},
     "output_type": "display_data"
    }
   ],
   "source": [
    "data(Charlotte_give_year)\n",
    "hist(Charlotte_give_year$année)"
   ]
  },
  {
   "cell_type": "code",
   "execution_count": 48,
   "metadata": {},
   "outputs": [
    {
     "data": {
      "text/html": [
       "<table>\n",
       "<thead><tr><th scope=col>X</th><th scope=col>année</th><th scope=col>prénom</th><th scope=col>genre</th><th scope=col>naissances</th></tr></thead>\n",
       "<tbody>\n",
       "</tbody>\n",
       "</table>\n"
      ],
      "text/latex": [
       "\\begin{tabular}{r|lllll}\n",
       " X & année & prénom & genre & naissances\\\\\n",
       "\\hline\n",
       "\\end{tabular}\n"
      ],
      "text/markdown": [
       "\n",
       "| X | année | prénom | genre | naissances |\n",
       "|---|---|---|---|---|\n",
       "\n"
      ],
      "text/plain": [
       "     X année prénom genre naissances"
      ]
     },
     "metadata": {},
     "output_type": "display_data"
    }
   ],
   "source": [
    " ###Charlotte_give_year <- filter(Charlotte_nom, naissances %in% c(1970:1990))\n",
    "##Charlotte_give_year"
   ]
  },
  {
   "cell_type": "code",
   "execution_count": 71,
   "metadata": {},
   "outputs": [
    {
     "name": "stderr",
     "output_type": "stream",
     "text": [
      "Warning message in mean.default(X[[i]], ...):\n",
      "\"argument is not numeric or logical: returning NA\"Warning message in mean.default(X[[i]], ...):\n",
      "\"argument is not numeric or logical: returning NA\""
     ]
    },
    {
     "data": {
      "text/html": [
       "<dl class=dl-horizontal>\n",
       "\t<dt>X</dt>\n",
       "\t\t<dd>870582.095238095</dd>\n",
       "\t<dt>année</dt>\n",
       "\t\t<dd>1980</dd>\n",
       "\t<dt>prénom</dt>\n",
       "\t\t<dd>&lt;NA&gt;</dd>\n",
       "\t<dt>genre</dt>\n",
       "\t\t<dd>&lt;NA&gt;</dd>\n",
       "\t<dt>naissances</dt>\n",
       "\t\t<dd>1045.14285714286</dd>\n",
       "</dl>\n"
      ],
      "text/latex": [
       "\\begin{description*}\n",
       "\\item[X] 870582.095238095\n",
       "\\item[année] 1980\n",
       "\\item[prénom] <NA>\n",
       "\\item[genre] <NA>\n",
       "\\item[naissances] 1045.14285714286\n",
       "\\end{description*}\n"
      ],
      "text/markdown": [
       "X\n",
       ":   870582.095238095année\n",
       ":   1980prénom\n",
       ":   &lt;NA&gt;genre\n",
       ":   &lt;NA&gt;naissances\n",
       ":   1045.14285714286\n",
       "\n"
      ],
      "text/plain": [
       "         X      année     prénom      genre naissances \n",
       "870582.095   1980.000         NA         NA   1045.143 "
      ]
     },
     "metadata": {},
     "output_type": "display_data"
    }
   ],
   "source": [
    "sapply(Charlotte_femme,mean)"
   ]
  },
  {
   "cell_type": "code",
   "execution_count": 73,
   "metadata": {},
   "outputs": [
    {
     "data": {
      "text/html": [
       "<table>\n",
       "<thead><tr><th scope=col>somme</th></tr></thead>\n",
       "<tbody>\n",
       "\t<tr><td>21948</td></tr>\n",
       "</tbody>\n",
       "</table>\n"
      ],
      "text/latex": [
       "\\begin{tabular}{r|l}\n",
       " somme\\\\\n",
       "\\hline\n",
       "\t 21948\\\\\n",
       "\\end{tabular}\n"
      ],
      "text/markdown": [
       "\n",
       "| somme |\n",
       "|---|\n",
       "| 21948 |\n",
       "\n"
      ],
      "text/plain": [
       "  somme\n",
       "1 21948"
      ]
     },
     "metadata": {},
     "output_type": "display_data"
    }
   ],
   "source": [
    "Charlotte_total<- summarise(Charlotte_femme, somme= sum(naissances))\n",
    "Charlotte_total"
   ]
  },
  {
   "cell_type": "code",
   "execution_count": 82,
   "metadata": {},
   "outputs": [
    {
     "name": "stderr",
     "output_type": "stream",
     "text": [
      "Warning message in Ops.factor(~prénom, ~genre == \"F\" & genre == \"M\"):\n",
      "\"'&' not meaningful for factors\""
     ]
    },
    {
     "data": {
      "text/html": [
       "<table>\n",
       "<thead><tr><th scope=col>X</th><th scope=col>année</th><th scope=col>prénom</th><th scope=col>genre</th><th scope=col>naissances</th></tr></thead>\n",
       "<tbody>\n",
       "</tbody>\n",
       "</table>\n"
      ],
      "text/latex": [
       "\\begin{tabular}{r|lllll}\n",
       " X & année & prénom & genre & naissances\\\\\n",
       "\\hline\n",
       "\\end{tabular}\n"
      ],
      "text/markdown": [
       "\n",
       "| X | année | prénom | genre | naissances |\n",
       "|---|---|---|---|---|\n",
       "\n"
      ],
      "text/plain": [
       "     X année prénom genre naissances"
      ]
     },
     "metadata": {},
     "output_type": "display_data"
    }
   ],
   "source": [
    "common_name <- filter(name, prénom, genre ==\"F\" & genre == \"M\" )\n",
    "common_name"
   ]
  },
  {
   "cell_type": "code",
   "execution_count": null,
   "metadata": {},
   "outputs": [],
   "source": [
    "#paul_M <- dataset %>% filter(prénom ==\"Paul\") %>% filter(genre == \"M\") %>% select(année, naissances)\n",
    "#head(paul_M, 3)"
   ]
  },
  {
   "cell_type": "code",
   "execution_count": null,
   "metadata": {},
   "outputs": [],
   "source": [
    "common_names <- name %>% group_by(prénom)%>%  filter(genre ==\"F\" & genre ==\"M\")%>% select(année,naissances)\n",
    "common_names"
   ]
  },
  {
   "cell_type": "code",
   "execution_count": null,
   "metadata": {},
   "outputs": [],
   "source": []
  },
  {
   "cell_type": "code",
   "execution_count": 1,
   "metadata": {},
   "outputs": [
    {
     "ename": "ERROR",
     "evalue": "Error in as.ts(x): objet 'name' introuvable\n",
     "output_type": "error",
     "traceback": [
      "Error in as.ts(x): objet 'name' introuvable\nTraceback:\n",
      "1. filter(name, prénom == \"Gloria\")",
      "2. as.ts(x)"
     ]
    }
   ],
   "source": [
    "Gloriose <- filter( name, prénom == \"Gloria\")\n",
    "Gloriose"
   ]
  },
  {
   "cell_type": "code",
   "execution_count": null,
   "metadata": {},
   "outputs": [],
   "source": []
  }
 ],
 "metadata": {
  "kernelspec": {
   "display_name": "R",
   "language": "R",
   "name": "ir"
  },
  "language_info": {
   "codemirror_mode": "r",
   "file_extension": ".r",
   "mimetype": "text/x-r-source",
   "name": "R",
   "pygments_lexer": "r",
   "version": "3.6.1"
  }
 },
 "nbformat": 4,
 "nbformat_minor": 2
}
